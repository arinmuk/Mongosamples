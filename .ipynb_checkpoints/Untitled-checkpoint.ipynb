{
 "cells": [],
 "metadata": {},
 "nbformat": 4,
<<<<<<< HEAD
 "nbformat_minor": 5
=======
 "nbformat_minor": 2
>>>>>>> ca9cd074ae12a24f8ae9e4d08a3c9d5da1a920c2
}
